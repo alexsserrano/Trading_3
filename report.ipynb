{
 "cells": [
  {
   "cell_type": "code",
   "execution_count": 27,
   "id": "initial_id",
   "metadata": {
    "collapsed": true,
    "ExecuteTime": {
     "end_time": "2024-02-26T07:07:37.985233Z",
     "start_time": "2024-02-26T07:07:37.762738Z"
    }
   },
   "outputs": [],
   "source": [
    "# Importación de librerías necesarias\n",
    "import pandas as pd\n",
    "import numpy as np\n",
    "import matplotlib.pyplot as plt\n",
    "import seaborn as sns\n",
    "# Configuración de visualización\n",
    "%matplotlib inline\n",
    "sns.set_style(\"whitegrid\")\n",
    "# Ejemplo de cómo cargar los resultados\n",
    "results_5m = pd.read_csv('data/aapl_5m_train.csv')\n",
    "results_1m = pd.read_csv('data/aapl_1m_train.csv')\n",
    "results_1d = pd.read_csv('data/aapl_1d_train.csv')\n",
    "results_1h = pd.read_csv('data/aapl_1h_train.csv')\n",
    "\n"
   ]
  },
  {
   "cell_type": "code",
   "outputs": [],
   "source": [
    "def visualize_performance(data, title):\n",
    "    #  data incluye tanto el valor del portafolio de la estrategia como el precio de cierre para calcular \"comprar y mantener\"\n",
    "    initial_investment = data['Close'].iloc[0] * 100  # Ejemplo con 100 acciones\n",
    "    buy_and_hold_value = data['Close'] / data['Close'].iloc[0] * initial_investment\n",
    "    \n",
    "    plt.figure(figsize=(14, 7))\n",
    "    plt.plot(data['Portfolio_Value'], label='Estrategia de Trading')\n",
    "    plt.plot(buy_and_hold_value, label='Comprar y Mantener', alpha=0.7)\n",
    "    plt.title(title)\n",
    "    plt.xlabel('Fecha')\n",
    "    plt.ylabel('Valor del Portafolio')\n",
    "    plt.legend()\n",
    "    plt.show()\n",
    "\n",
    "datasets = {\n",
    "    \"5m\": pd.read_csv(\"data/aapl_5m_train.csv\"),\n",
    "    \"1m\": pd.read_csv(\"data/aapl_1m_train.csv\"),\n",
    "    \"1d\": pd.read_csv(\"data/aapl_1d_train.csv\"),\n",
    "    \"1h\": pd.read_csv(\"data/aapl_1h_train.csv\"),\n",
    "}\n",
    "\n"
   ],
   "metadata": {
    "collapsed": false,
    "ExecuteTime": {
     "end_time": "2024-02-26T18:29:28.025641Z",
     "start_time": "2024-02-26T18:29:27.762299Z"
    }
   },
   "id": "e3a29b53f05f66a3",
   "execution_count": 32
  },
  {
   "cell_type": "code",
   "outputs": [
    {
     "ename": "TypeError",
     "evalue": "'module' object is not iterable",
     "output_type": "error",
     "traceback": [
      "\u001B[0;31m---------------------------------------------------------------------------\u001B[0m",
      "\u001B[0;31mTypeError\u001B[0m                                 Traceback (most recent call last)",
      "Input \u001B[0;32mIn [40]\u001B[0m, in \u001B[0;36m<cell line: 6>\u001B[0;34m()\u001B[0m\n\u001B[1;32m     13\u001B[0m data[\u001B[38;5;124m'\u001B[39m\u001B[38;5;124mVolume_Osc\u001B[39m\u001B[38;5;124m'\u001B[39m] \u001B[38;5;241m=\u001B[39m calculate_volume_oscillator(data, \u001B[38;5;241m5\u001B[39m, \u001B[38;5;241m20\u001B[39m)\n\u001B[1;32m     15\u001B[0m \u001B[38;5;66;03m# Generación de señales\u001B[39;00m\n\u001B[0;32m---> 16\u001B[0m buy_signals \u001B[38;5;241m=\u001B[39m \u001B[43mgenerate_buy_signals\u001B[49m\u001B[43m(\u001B[49m\u001B[43mdata\u001B[49m\u001B[43m,\u001B[49m\u001B[43mindicators\u001B[49m\u001B[43m)\u001B[49m\n\u001B[1;32m     17\u001B[0m sell_signals \u001B[38;5;241m=\u001B[39m generate_sell_signals(data, get_strategies)\n",
      "File \u001B[0;32m~/Documents/GitHub/Proyecto1_Micro/technical_analysis/generate_buy_signals.py:20\u001B[0m, in \u001B[0;36mgenerate_buy_signals\u001B[0;34m(data, strategies)\u001B[0m\n\u001B[1;32m      8\u001B[0m \u001B[38;5;124;03m\"\"\"\u001B[39;00m\n\u001B[1;32m      9\u001B[0m \u001B[38;5;124;03mGenera señales de compra para cada estrategia en los datos proporcionados, basándose en SMA, RSI, Bandas de Bollinger y Oscilador de Volumen.\u001B[39;00m\n\u001B[1;32m     10\u001B[0m \n\u001B[0;32m   (...)\u001B[0m\n\u001B[1;32m     16\u001B[0m \u001B[38;5;124;03mpd.DataFrame: DataFrame con las señales de compra para cada estrategia.\u001B[39;00m\n\u001B[1;32m     17\u001B[0m \u001B[38;5;124;03m\"\"\"\u001B[39;00m\n\u001B[1;32m     18\u001B[0m signals \u001B[38;5;241m=\u001B[39m pd\u001B[38;5;241m.\u001B[39mDataFrame(index\u001B[38;5;241m=\u001B[39mdata\u001B[38;5;241m.\u001B[39mindex)\n\u001B[0;32m---> 20\u001B[0m \u001B[38;5;28;01mfor\u001B[39;00m strategy \u001B[38;5;129;01min\u001B[39;00m strategies:\n\u001B[1;32m     21\u001B[0m     signal_name \u001B[38;5;241m=\u001B[39m \u001B[38;5;124m'\u001B[39m\u001B[38;5;124mSignal_\u001B[39m\u001B[38;5;124m'\u001B[39m \u001B[38;5;241m+\u001B[39m \u001B[38;5;28mstr\u001B[39m(strategy[\u001B[38;5;124m'\u001B[39m\u001B[38;5;124mid\u001B[39m\u001B[38;5;124m'\u001B[39m])\n\u001B[1;32m     22\u001B[0m     signals[signal_name] \u001B[38;5;241m=\u001B[39m np\u001B[38;5;241m.\u001B[39mones(\u001B[38;5;28mlen\u001B[39m(data))  \u001B[38;5;66;03m# Inicializamos todas las señales a 1 (compra)\u001B[39;00m\n",
      "\u001B[0;31mTypeError\u001B[0m: 'module' object is not iterable"
     ]
    }
   ],
   "source": [
    "from technical_analysis.generate_sell_signals import generate_sell_signals\n",
    "from technical_analysis.generate_buy_signals import generate_buy_signals\n",
    "from technical_analysis.indicators import calculate_rsi, calculate_sma, calculate_bollinger, calculate_volume_oscillator\n",
    "from technical_analysis import get_strategies, indicators\n",
    "\n",
    "for timeframe, data in datasets.items():\n",
    "    # Aplicación de indicadores\n",
    "    data['RSI'] = calculate_rsi(data, window=14)\n",
    "    # Calcula cada SMA por separado\n",
    "    data['SMA_short'] = calculate_sma(data['Close'], 5)  # SMA corta\n",
    "    data['SMA_long'] = calculate_sma(data['Close'], 20)  # SMA larga\n",
    "    data['BB_mavg'], data['BB_hband'], data['BB_lband'] = calculate_bollinger(data, 20)\n",
    "    data['Volume_Osc'] = calculate_volume_oscillator(data, 5, 20)\n",
    "\n",
    "    # Generación de señales\n",
    "    buy_signals = generate_buy_signals(data,indicators)\n",
    "    sell_signals = generate_sell_signals(data, get_strategies)\n"
   ],
   "metadata": {
    "collapsed": false,
    "ExecuteTime": {
     "end_time": "2024-02-26T18:41:28.063769Z",
     "start_time": "2024-02-26T18:41:28.004428Z"
    }
   },
   "id": "f7b50a9a39383d6d",
   "execution_count": 40
  },
  {
   "cell_type": "code",
   "outputs": [],
   "source": [
    "# 4. Aplicación de Indicadores Técnicos\n",
    "# 'Aquí incluirías el código para calcular y visualizar los indicadores técnicos'\n"
   ],
   "metadata": {
    "collapsed": false,
    "ExecuteTime": {
     "start_time": "2024-02-26T05:46:44.646296Z"
    }
   },
   "id": "1b6e0d4052bf80bc",
   "execution_count": null
  },
  {
   "cell_type": "code",
   "outputs": [],
   "source": [
    "#5. Generación de Señales de Compra/Venta\n",
    "# 'Aquí mostrarías cómo generas las señales de compra/venta y las visualizas en un gráfico'"
   ],
   "metadata": {
    "collapsed": false,
    "ExecuteTime": {
     "start_time": "2024-02-26T05:46:44.648398Z"
    }
   },
   "id": "5a8a4f05b0e03058",
   "execution_count": null
  },
  {
   "cell_type": "code",
   "outputs": [],
   "source": [
    "# 6. Backtesting de Estrategias\n",
    "# 'Descripción de la metodología de backtesting y presentación de resultados'"
   ],
   "metadata": {
    "collapsed": false,
    "ExecuteTime": {
     "start_time": "2024-02-26T05:46:44.649930Z"
    }
   },
   "id": "523d08ddd0482ab3",
   "execution_count": null
  },
  {
   "cell_type": "code",
   "outputs": [],
   "source": [
    "# 7. Optimización de Estrategias\n",
    "# 'Descripción y resultados del proceso de optimización'\n"
   ],
   "metadata": {
    "collapsed": false,
    "ExecuteTime": {
     "start_time": "2024-02-26T05:46:44.651111Z"
    }
   },
   "id": "f65ba5377c935bf7",
   "execution_count": null
  },
  {
   "cell_type": "code",
   "outputs": [],
   "source": [
    "# 8. Estrategia Óptima y Prueba con Conjunto de Datos de Test\n",
    "# 'Detalles de la estrategia óptima y su aplicación al conjunto de datos de test'\n"
   ],
   "metadata": {
    "collapsed": false,
    "ExecuteTime": {
     "start_time": "2024-02-26T05:46:44.652186Z"
    }
   },
   "id": "d5e79722e2a808fa",
   "execution_count": null
  },
  {
   "cell_type": "code",
   "outputs": [],
   "source": [
    "# 9. Conclusión\n",
    "# 'Resumen de tus hallazgos y posibles pasos a futuro'\n"
   ],
   "metadata": {
    "collapsed": false,
    "ExecuteTime": {
     "start_time": "2024-02-26T05:46:44.653100Z"
    }
   },
   "id": "a47e9646ea6eac29",
   "execution_count": null
  },
  {
   "cell_type": "code",
   "outputs": [],
   "source": [
    "# 10. Apéndice\n",
    "# 'Cualquier análisis adicional o código relevante que quisieras incluir'\n"
   ],
   "metadata": {
    "collapsed": false,
    "ExecuteTime": {
     "start_time": "2024-02-26T05:46:44.654098Z"
    }
   },
   "id": "594c14f4b38b4f37",
   "execution_count": null
  }
 ],
 "metadata": {
  "kernelspec": {
   "display_name": "Python 3",
   "language": "python",
   "name": "python3"
  },
  "language_info": {
   "codemirror_mode": {
    "name": "ipython",
    "version": 2
   },
   "file_extension": ".py",
   "mimetype": "text/x-python",
   "name": "python",
   "nbconvert_exporter": "python",
   "pygments_lexer": "ipython2",
   "version": "2.7.6"
  }
 },
 "nbformat": 4,
 "nbformat_minor": 5
}
